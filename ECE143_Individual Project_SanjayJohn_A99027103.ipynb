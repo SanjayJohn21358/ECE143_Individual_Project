{
 "cells": [
  {
   "cell_type": "markdown",
   "metadata": {},
   "source": [
    "# Problem Statement:"
   ]
  },
  {
   "cell_type": "markdown",
   "metadata": {},
   "source": [
    "You have been asked to help with planning an ad-hoc communications network over a large\n",
    "rectangular region. Each individual tower can monitor a rectangular subsection of a specific\n",
    "width and height. The main problem is that none of the individual towers can provide\n",
    "coverage for the entire region of interest. Communications towers are unreliable and are put\n",
    "up independently and at random. You have no control over where or how big a tower’s\n",
    "footprint is placed. Importantly, due to technical issues such as cross-talk, no individual\n",
    "rectangular subsection can have multiple towers providing coverage for it. That is, there can\n",
    "be no overlap between any pair of rectangular subsections provided by the two respective\n",
    "towers. In any case, the desire is to maximize the coverage area of any available\n",
    "communications tower.\n",
    "\n",
    "The order of when the towers come online is important. Once a tower has acquired its\n",
    "rectangular section, no subsequent tower can overlap that section. You may assume the\n",
    "following for this problem:\n",
    "\n",
    "● All rectangular sections have integer-based corners.\n",
    "\n",
    "● All rectangular sections must be contained in the overall rectangular footprint.\n",
    "\n",
    "● The height and width of each rectangular section is sampled from a uniform\n",
    "distribution.\n",
    "\n",
    "● Positions of the windows are also determined by uniform random distribution.\n",
    "\n",
    "● All footprints must be rectangles (not general polygons).\n",
    "\n",
    "● When a new tower comes online, if its coverage rectangle intersects the pre-existing\n",
    "composite footprint, then that new tower’s coverage is trimmed such that its\n",
    "maximum remaining coverage area is retained (see sequential diagram below).\n",
    "\n",
    "Write a detailed Jupyter notebook that implements a solution to this problem such that the\n",
    "user can supply the following overall size of desired coverage footprint and then determine\n",
    "the following:\n",
    "\n",
    "● Given an overall desired coverage footprint and a sequence of n communications\n",
    "towers, what is the resulting resolved coverage?\n",
    "\n",
    "● What is the total area of coverage relative to the desired total coverage area of the\n",
    "original footprint? That is, are there any gaps in coverage?\n",
    "\n",
    "● On average, how many communications towers are required before full coverage is\n",
    "obtained?"
   ]
  },
  {
   "cell_type": "markdown",
   "metadata": {},
   "source": [
    "# Solution:"
   ]
  },
  {
   "cell_type": "markdown",
   "metadata": {},
   "source": [
    "## The Tower Class"
   ]
  },
  {
   "cell_type": "markdown",
   "metadata": {},
   "source": [
    "Since we need to 'spawn' towers in a region, an object class is exactly what we need. Let's think about how our towers should be defined:\n",
    "\n",
    "1) It should have originating x and y integer coordinates found from a random uniform distribution, in between 0 and the user specified region area. \n",
    "\n",
    "2) Since these are rectangles, it should have integer length and width parameters, also found from a uniform distribution. This rectangle should not go over the user defined region area.\n",
    "\n",
    "3) It should create a visual representation of itself by plotting a rectangle with the above parameters.\n",
    "\n",
    "4) We should be able to set the coordinates of the rectangle, so that we can 'trim' it down later. Any change should be reflected throughout the rectangle, and all the Tower's properties thereafter.\n",
    "\n",
    "5) In order to visualize movements, we'll also add the ability to 'copy' the tower onto another tower."
   ]
  },
  {
   "cell_type": "code",
   "execution_count": 1,
   "metadata": {},
   "outputs": [],
   "source": [
    "import numpy as np\n",
    "import matplotlib.pyplot as plt\n",
    "import matplotlib.patches as patches\n",
    "import random\n",
    "import itertools\n",
    "\n",
    "colors = itertools.cycle(['blue','yellow','red','purple','black','green','orange','brown','pink','olive','cyan','gray'])\n",
    "\n",
    "class Tower(object):\n",
    "    def __init__(self,ax,w_cov=10,h_cov=10):\n",
    "        \"\"\" \n",
    "        Initialize Tower class\n",
    "        Tower will have a length and width which should be bounded by the overall coverage.\n",
    "        and a starting position, such that the total rectangle is contained in the footprint.\n",
    "        \n",
    "        :param: l_cov\n",
    "        :type: int\n",
    "        :param: w_cov\n",
    "        :type: int\n",
    "        \n",
    "        \"\"\"\n",
    "        self.ax = ax\n",
    "        #X and Y coordinate\n",
    "        self.x1 = np.random.randint(0,w_cov)   \n",
    "        self.y1 = np.random.randint(0,h_cov)\n",
    "        #Length and width\n",
    "        self.height = np.random.randint(1,h_cov - self.y1 + 1)  \n",
    "        self.width = np.random.randint(1,w_cov - self.x1 + 1)\n",
    "        self.area = self.height*self.width\n",
    "        #Other coordinates\n",
    "        self.x2 = self.x1\n",
    "        self.y2 = self.y1 + self.height\n",
    "        self.x3 = self.x2 + self.width\n",
    "        self.y3 = self.y2\n",
    "        self.x4 = self.x3\n",
    "        self.y4 = self.y1\n",
    "        \n",
    "        self.color = next(colors)\n",
    "        #Visualize\n",
    "        self.rect = patches.Rectangle(\n",
    "        (self.x1,self.y1),   # (x,y)\n",
    "        self.width,          # width\n",
    "        self.height,         # height\n",
    "        linewidth = 2,\n",
    "        color=self.color,\n",
    "        alpha = 0.5\n",
    "        )\n",
    "        self.ax.add_patch(self.rect)\n",
    "        \n",
    "    def set_x2(self,x):\n",
    "        \"\"\"\n",
    "        set x-coordinate of left top corner\n",
    "        2 refers to left top\n",
    "        :param: x\n",
    "        :type: int\n",
    "        \n",
    "        \"\"\"\n",
    "        assert isinstance(x,int)\n",
    "        self.rect.remove()\n",
    "        self.x1 = x\n",
    "        \n",
    "        #width\n",
    "        self.width = self.x3 - self.x1\n",
    "        self.area = self.height*self.width\n",
    "        #Other coordinates\n",
    "        self.x2 = self.x1\n",
    "        self.x3 = self.x2 + self.width\n",
    "        self.x4 = self.x3\n",
    "        \n",
    "        #Visualize\n",
    "        self.rect = patches.Rectangle(\n",
    "        (self.x1,self.y1),   # (x,y)\n",
    "        self.width,          # width\n",
    "        self.height,         # height\n",
    "        linewidth = 2,\n",
    "        color=self.color,\n",
    "        alpha = 0.5\n",
    "        )\n",
    "        self.ax.add_patch(self.rect)\n",
    "        \n",
    "    def set_y2(self,y):\n",
    "        \"\"\"\n",
    "        set y-coordinate of left top corner\n",
    "        :param: x\n",
    "        :type: int\n",
    "        \n",
    "        \"\"\"\n",
    "        assert isinstance(y,int)\n",
    "        self.rect.remove()\n",
    "        self.y2 = y\n",
    "        \n",
    "        #height\n",
    "        self.height = self.y2 - self.y1\n",
    "        self.area = self.height*self.width\n",
    "        #Other coordinates\n",
    "        self.y1 = self.y2 - self.height\n",
    "        self.y3 = self.y2\n",
    "        self.y4 = self.y1\n",
    "        \n",
    "        #Visualize\n",
    "        self.rect = patches.Rectangle(\n",
    "        (self.x1,self.y1),   # (x,y)\n",
    "        self.width,          # width\n",
    "        self.height,         # height\n",
    "        linewidth = 2,\n",
    "        color=self.color,\n",
    "        alpha = 0.5\n",
    "        )\n",
    "        self.ax.add_patch(self.rect)\n",
    "        \n",
    "    def set_x4(self,x):\n",
    "        \"\"\"\n",
    "        set x-coordinate of right bottom corner\n",
    "        :param: x\n",
    "        :type: int\n",
    "        \n",
    "        \"\"\"\n",
    "        assert isinstance(x,int)\n",
    "        \n",
    "        self.rect.remove()\n",
    "        self.x3 = x\n",
    "        \n",
    "        #width\n",
    "        self.width = self.x3 - self.x1\n",
    "        self.area = self.height*self.width\n",
    "        #Other coordinates\n",
    "        self.x2 = self.x1\n",
    "        self.x4 = self.x3\n",
    "        \n",
    "        #Visualize\n",
    "        self.rect = patches.Rectangle(\n",
    "        (self.x1,self.y1),   # (x,y)\n",
    "        self.width,          # width\n",
    "        self.height,         # height\n",
    "        linewidth = 2,\n",
    "        color=self.color,\n",
    "        alpha = 0.5\n",
    "        )\n",
    "        self.ax.add_patch(self.rect)\n",
    "        \n",
    "    def set_y4(self,y):\n",
    "        \"\"\"\n",
    "        set y-coordinate of right bottom corner\n",
    "        :param: x\n",
    "        :type: int\n",
    "        \n",
    "        \"\"\"\n",
    "        assert isinstance(y,int)\n",
    "        \n",
    "        self.rect.remove()\n",
    "        self.y1 = y\n",
    "        \n",
    "        #height\n",
    "        self.height = self.y2 - self.y1\n",
    "        self.area = self.height*self.width\n",
    "        #Other coordinates\n",
    "        self.y3 = self.y2\n",
    "        self.y4 = self.y1\n",
    "        \n",
    "        #Visualize\n",
    "        self.rect = patches.Rectangle(\n",
    "        (self.x1,self.y1),   # (x,y)\n",
    "        self.width,          # width\n",
    "        self.height,         # height\n",
    "        linewidth = 2,\n",
    "        color=self.color,\n",
    "        alpha = 0.5\n",
    "        )\n",
    "        self.ax.add_patch(self.rect)\n",
    "        \n",
    "     \n",
    "    def set_xy(self,x2,y2,x4,y4):\n",
    "        \"\"\"\n",
    "        set all coordinates of tower in one method\n",
    "        :param: x2 coordinate\n",
    "        :type: int\n",
    "        :param: y2 coordinate\n",
    "        :type: int\n",
    "        :param: x4 coordinate\n",
    "        :type: int\n",
    "        :param: y4 coordinate\n",
    "        :type: int\n",
    "        \n",
    "        \"\"\"\n",
    "        self.set_x2(x2)\n",
    "        self.set_y2(y2)\n",
    "        self.set_x4(x4)\n",
    "        self.set_y4(y4)\n",
    "        \n",
    "    def set_Color(self,color):\n",
    "        \"\"\"\n",
    "        set color of tower\n",
    "        :param: color, to set tower\n",
    "        :type: str\n",
    "    \n",
    "        \"\"\"\n",
    "        self.rect.remove()\n",
    "        self.color = color\n",
    "        self.rect = patches.Rectangle(\n",
    "        (self.x1,self.y1),   # (x,y)\n",
    "        self.width,          # width\n",
    "        self.height,         # height\n",
    "        linewidth = 2,\n",
    "        color=self.color,\n",
    "        alpha = 0.5\n",
    "        )\n",
    "        self.ax.add_patch(self.rect)\n",
    "        \n",
    "    def copy(self,tower):\n",
    "        \"\"\"\n",
    "        set current tower to have all properties of input tower\n",
    "        :param: tower\n",
    "        :type: Tower object\n",
    "        \n",
    "        \"\"\"\n",
    "        self.set_xy(tower.x2,tower.y2,tower.x4,tower.y4)\n",
    "        self.set_Color(tower.color)\n",
    "\n",
    "        "
   ]
  },
  {
   "cell_type": "code",
   "execution_count": 2,
   "metadata": {},
   "outputs": [
    {
     "data": {
      "image/png": "[encoded data removed]",
      "text/plain": [
       "<matplotlib.figure.Figure at 0x10f3cff10>"
      ]
     },
     "metadata": {},
     "output_type": "display_data"
    }
   ],
   "source": [
    "#EXAMPLE TO SHOW FUNCTIONALITY\n",
    "\n",
    "fig, ax = plt.subplots(1,figsize=(6,6))\n",
    "a = Tower(ax)\n",
    "a.set_xy(3,5,8,2)\n",
    "b = Tower(ax)\n",
    "b.set_xy(2,8,6,1)\n",
    "c = Tower(ax)\n",
    "ax.set_xlim(0,10)\n",
    "ax.set_ylim(0,10)\n",
    "plt.show()"
   ]
  },
  {
   "cell_type": "markdown",
   "metadata": {},
   "source": [
    "## The Region Class"
   ]
  },
  {
   "cell_type": "markdown",
   "metadata": {},
   "source": [
    "While serving as our playing field, the region class will also perform the operations and checks necessary to keep the game going. Let's think about what the rules of this game will be:\n",
    "\n",
    "1) Playing field size will be user-specified but have a default\n",
    "\n",
    "2) It should be able to create a user-specified number of towers\n",
    "\n",
    "3) It should be able to detect when an overlap occurs\n",
    "\n",
    "4) When the overlap is detected, it will 'trim' the newest tower so that it retains the most amount of area it can while not overlapping anything else."
   ]
  },
  {
   "cell_type": "markdown",
   "metadata": {},
   "source": [
    "### Detecting An Overlap"
   ]
  },
  {
   "cell_type": "markdown",
   "metadata": {},
   "source": [
    "The study of overlapping rectangles reveals a certain phenomenon. Given any rectangles A and B, any one of four conditions guarantees that no overlap can exist:\n",
    "\n",
    "Condition 1: If A's left edge is to the right of the B's right edge, then A is entirely to right of B\n",
    "\n",
    "Condition 2: If A's right edge is to the left of the B's left edge, then A is entirely to left of B\n",
    "\n",
    "Condition 3: If A's top edge is below B's bottom edge, then A is entirely below B\n",
    "\n",
    "Condition 4: If A's bottom edge is above B's top edge, then A is entirely above B\n",
    "\n",
    "Therefore (1) or (2) or (3) or (4) will guarantee that there is no overlap. \n",
    "\n",
    "\n",
    "Since we need to detect an overlap, basic logic reveals that we need to compute NOT(1 or 2 or 3 or 4).\n",
    "Applying DeMorgan's Rule, NOT(1 or 2 or 3 or 4) = NOT 1 and NOT 2 and NOT 3 and NOT 4.\n",
    "\n",
    "If we think of the left and right edge as the x-coordinate of the left and right corner, and the top and bottom as the y-coordinate of the top and bottom corner, it is easy to translate these conditions into if statements using our Tower's parameters.\n",
    "\n",
    "NOT 1 equates to the A.x2 < B.x4, NOT 2 equates to A.x4 > B.x2, etc."
   ]
  },
  {
   "cell_type": "code",
   "execution_count": 3,
   "metadata": {},
   "outputs": [
    {
     "data": {
      "image/png": "[encoded data removed]",
      "text/plain": [
       "<matplotlib.figure.Figure at 0x10f3c7c10>"
      ]
     },
     "metadata": {},
     "output_type": "display_data"
    },
    {
     "name": "stdout",
     "output_type": "stream",
     "text": [
      "Overlap!\n"
     ]
    },
    {
     "data": {
      "image/png": "[encoded data removed]",
      "text/plain": [
       "<matplotlib.figure.Figure at 0x11a296190>"
      ]
     },
     "metadata": {},
     "output_type": "display_data"
    },
    {
     "name": "stdout",
     "output_type": "stream",
     "text": [
      "No Overlap!\n"
     ]
    }
   ],
   "source": [
    "#EXAMPLE TO DEMONSTRATE OVERLAP FUNCTION\n",
    "import numpy as np\n",
    "import matplotlib.pyplot as plt\n",
    "import matplotlib.patches as patches\n",
    "import random\n",
    "import itertools\n",
    "\n",
    "\n",
    "\n",
    "def detect_Overlap(tower1,tower2):\n",
    "    \"\"\"\n",
    "    detects if two towers intersect\n",
    "    :param: tower1\n",
    "    :type: Tower\n",
    "    :param: tower2\n",
    "    :type: Tower\n",
    "    \n",
    "    \"\"\"\n",
    "    if tower1.x2 < tower2.x4 and tower1.x4 > tower2.x2 \\\n",
    "    and tower1.y4 < tower2.y2 and tower1.y2 > tower2.y4:\n",
    "        return True\n",
    "    else:\n",
    "        return False\n",
    "   \n",
    "\n",
    "\n",
    "\n",
    "ax1 = plt.subplot(211)\n",
    "a = Tower(ax1)\n",
    "a.set_x2(3)\n",
    "a.set_y2(5)\n",
    "a.set_x4(8)\n",
    "a.set_y4(2)\n",
    "b = Tower(ax1)\n",
    "b.set_x2(2)\n",
    "b.set_y2(8)\n",
    "b.set_x4(6)\n",
    "b.set_y4(1)\n",
    "ax1.set_xlim(0,10)\n",
    "ax1.set_ylim(0,10)\n",
    "plt.show()\n",
    "if detect_Overlap(a,b) is True:\n",
    "    print 'Overlap!'\n",
    "else:\n",
    "    print 'No Overlap!'\n",
    "    \n",
    "    \n",
    "ax2 = plt.subplot(212)\n",
    "c = Tower(ax2)\n",
    "c.set_x2(3)\n",
    "c.set_y2(5)\n",
    "c.set_x4(8)\n",
    "c.set_y4(2)\n",
    "d = Tower(ax2)\n",
    "d.set_x2(2)\n",
    "d.set_y2(8)\n",
    "d.set_x4(6)\n",
    "d.set_y4(6)\n",
    "ax2.set_xlim(0,10)\n",
    "ax2.set_ylim(0,10)\n",
    "plt.show()\n",
    "if detect_Overlap(c,d) is True:\n",
    "    print 'Overlap!'\n",
    "else:\n",
    "    print 'No Overlap!'\n",
    "\n",
    "plt.show()"
   ]
  },
  {
   "cell_type": "markdown",
   "metadata": {},
   "source": [
    "### Trimming"
   ]
  },
  {
   "cell_type": "markdown",
   "metadata": {},
   "source": [
    "This is the hard part. Let's detail exactly what the trimming function should do:\n",
    "\n",
    "1) Find out which direction of the non-overlapped rectangle has the most area (up, down, left, right)\n",
    "\n",
    "2) Move the overlapped corner(s) of the rectangle in that direction until is not overlapped anymore\n",
    "\n",
    "It may be helpful to note that we can simply move an edge out of overlap by placing it where the underlying rectangle edge is, i.e.\n",
    "\n",
    "    ooooooooooooooooo                   Set o edge to u edge     ooooooooooooo     \n",
    "                uuuuuuuuuuuuuuuuuuuu                                         uuuuuuuuuuuuuuuuuuuu\n",
    "    1           2           3                                    1           2           3"
   ]
  },
  {
   "cell_type": "markdown",
   "metadata": {},
   "source": [
    "Assessing all the possible non-overlapped areas using if-statements is not very practical. We can use dictionaries to do the heavy-lifting for us.\n",
    "\n",
    "We can think of an area that is not overlapped as the difference between the -coordinates of the rectangles and the opposing dimension, i.e.\n",
    "\n",
    "Assume x is the overlapping rectangle:\n",
    "\n",
    "        xxxxxxxxxxx   4     \n",
    "        x         x                       area right :  (x3 - x2) * height\n",
    "    oooooooo      x   3\n",
    "    o   x  o      x                       area up : (y4 - y3) * width\n",
    "    o   xxxoxxxxxxx   2\n",
    "    o      o\n",
    "    oooooooo          1  \n",
    "    \n",
    "    1      2      3\n",
    "    "
   ]
  },
  {
   "cell_type": "markdown",
   "metadata": {},
   "source": [
    "So if we use a dictionary to store each of dimension's area values, we can find the key with the maximum value! This will lead us to the appropriate dimension. However, if all the values are the same we can be in trouble, so we must make sure that any trimming movements are legal, i.e. we're not moving the bottom right coordinate over the top left, and that the trimming removes the overlap. If not, we must return the rectangle to its original state and try another dimension. Our trimming function may look something like this:"
   ]
  },
  {
   "cell_type": "code",
   "execution_count": 4,
   "metadata": {},
   "outputs": [
    {
     "data": {
      "image/png": "[encoded data removed]",
      "text/plain": [
       "<matplotlib.figure.Figure at 0x11a3606d0>"
      ]
     },
     "metadata": {},
     "output_type": "display_data"
    },
    {
     "name": "stdout",
     "output_type": "stream",
     "text": [
      "Overlap!\n"
     ]
    },
    {
     "data": {
      "image/png": "[encoded data removed]",
      "text/plain": [
       "<matplotlib.figure.Figure at 0x11a383110>"
      ]
     },
     "metadata": {},
     "output_type": "display_data"
    },
    {
     "name": "stdout",
     "output_type": "stream",
     "text": [
      "No Overlap!\n"
     ]
    }
   ],
   "source": [
    "#EXAMPLE TO DEMONSTRATE TRIMMING\n",
    "import numpy as np\n",
    "import matplotlib.pyplot as plt\n",
    "import matplotlib.patches as patches\n",
    "import random\n",
    "import itertools\n",
    "\n",
    "def trim_Tower(tower1,tower2):\n",
    "    \"\"\"\n",
    "    trims tower2 down wrt tower1\n",
    "    :param: tower1\n",
    "    :type: Tower\n",
    "    :param: tower2\n",
    "    :type: Tower\n",
    "    \n",
    "    \"\"\"\n",
    "    \n",
    "    #if entirely contained, destroy tower\n",
    "    if tower2.x2 >= tower1.x2 and tower2.x4 <= tower1.x4 and tower2.y2 <= tower1.y2 and tower2.y4 >= tower1.y4:\n",
    "        tower2.set_x2(0)\n",
    "        tower2.set_x4(0)\n",
    "        tower2.set_y2(0)\n",
    "        tower2.set_y4(0)\n",
    "        \n",
    "    #dictionary to contain area values   \n",
    "    overlaps = {'x2':0,'x4':0,'y2':0,'y4':0}\n",
    "    overlaps['x2'] = abs(tower2.x2 - tower1.x2)*(tower2.height)\n",
    "    overlaps['x4'] = abs(tower2.x4 - tower1.x4)*(tower2.height)\n",
    "    overlaps['y2'] = abs(tower2.y2 - tower1.y2)*(tower2.width)\n",
    "    overlaps['y4'] = abs(tower2.y4 - tower1.y4)*(tower2.width)\n",
    "    \n",
    "    #loop until overlap is gone\n",
    "    while detect_Overlap(tower1,tower2) == True:\n",
    "        sel = max(overlaps, key=overlaps.get)\n",
    "        if sel == 'x2':               \n",
    "            place = tower2.x4  #hold value, incase its wrong\n",
    "            if tower1.x2 > tower2.x2:\n",
    "                tower2.set_x4(tower1.x2) #trim\n",
    "            if detect_Overlap(tower1,tower2) == True:\n",
    "                tower2.set_x4(place) #put back rectangle, try again \n",
    "                overlaps.pop('x2', None) #remove faulty dimension\n",
    "                sel = max(overlaps, key=overlaps.get)\n",
    "\n",
    "        if sel == 'x4':\n",
    "            place = tower2.x2\n",
    "            if tower1.x4 < tower2.x4:\n",
    "                tower2.set_x2(tower1.x4)\n",
    "            if detect_Overlap(tower1,tower2) == True:\n",
    "                tower2.set_x2(place)\n",
    "                overlaps.pop('x4',None)\n",
    "                sel = max(overlaps, key=overlaps.get)\n",
    "\n",
    "        if sel == 'y2':\n",
    "            place = tower2.y4\n",
    "            if tower1.y2 < tower2.y2:\n",
    "                tower2.set_y4(tower1.y2)\n",
    "            if detect_Overlap(tower1,tower2) == True:\n",
    "                tower2.set_y4(place)\n",
    "                overlaps.pop('y2',None)\n",
    "                sel = max(overlaps, key=overlaps.get)\n",
    "\n",
    "\n",
    "        if sel == 'y4':\n",
    "            place = tower2.y2\n",
    "            if tower1.y4 > tower2.y4:\n",
    "                tower2.set_y2(tower1.y4)\n",
    "            if detect_Overlap(tower1,tower2) == True:\n",
    "                tower2.set_y2(place)\n",
    "                overlaps.pop('y4',None)\n",
    "                sel = max(overlaps, key=overlaps.get)\n",
    "\n",
    "\n",
    "def detect_Overlap(tower1,tower2):\n",
    "    \"\"\"\n",
    "    detects if two towers intersect\n",
    "    :param: tower1\n",
    "    :type: Tower\n",
    "    :param: tower2\n",
    "    :type: Tower\n",
    "    \n",
    "    \"\"\"\n",
    "    if tower1.x2 < tower2.x4 and tower1.x4 > tower2.x2 \\\n",
    "    and tower1.y4 < tower2.y2 and tower1.y2 > tower2.y4:\n",
    "        return True\n",
    "    else:\n",
    "        return False\n",
    "   \n",
    "\n",
    "\n",
    "\n",
    "ax1 = plt.subplot(211)\n",
    "a = Tower(ax1)\n",
    "a.set_xy(3,5,8,2)\n",
    "b = Tower(ax1)\n",
    "b.set_xy(2,8,6,1)\n",
    "ax1.set_xlim(0,10)\n",
    "ax1.set_ylim(0,10)\n",
    "plt.show()\n",
    "if detect_Overlap(a,b) is True:\n",
    "    print 'Overlap!'\n",
    "else:\n",
    "    print 'No Overlap!'\n",
    "    \n",
    "    \n",
    "ax2 = plt.subplot(212)\n",
    "#make two towers with same dimensions as previous\n",
    "c = Tower(ax2)\n",
    "c.copy(a)\n",
    "d = Tower(ax2)\n",
    "d.copy(b)\n",
    "ax2.set_xlim(0,10)\n",
    "ax2.set_ylim(0,10)\n",
    "if detect_Overlap(c,d) is True:\n",
    "    trim_Tower(c,d)\n",
    "    \n",
    "plt.show()\n",
    "\n",
    "if detect_Overlap(c,d) is True:  \n",
    "    print 'Overlap!'\n",
    "else:\n",
    "    print 'No Overlap!'\n",
    "\n"
   ]
  },
  {
   "cell_type": "markdown",
   "metadata": {},
   "source": [
    "We're now ready to define our region class. Besides the overlap detector and trimming function, we're also going to need functions that will visualize exactly how our function works, and functions that will help answer our client's questions. Let's review them.\n",
    "\n",
    "1) Initialize: Initialize a region with a user-specified desired coverage.\n",
    "\n",
    "2) Detect Overlap: Detect overlaps when they occur.\n",
    "\n",
    "3) Trim: Trim tower with respect to the previous tower.\n",
    "\n",
    "4) Visualize: Drop a Tower, observe, drop another tower, observe, trim down, observe, drop another tower, etc.\n",
    "\n",
    "5) Populate: Given a number n, populate the region with n towers and trim when needed. Find the resulting coverage, and total amount of gap between resulting coverage and desired coverage.\n",
    "\n",
    "6) Cover: Populate the region until total resulting coverage is equal to desired coverage, saving number of towers needed to do so. Repeat 10 times, take average of number of towers."
   ]
  },
  {
   "cell_type": "code",
   "execution_count": 38,
   "metadata": {},
   "outputs": [],
   "source": [
    "import numpy as np\n",
    "import matplotlib.pyplot as plt\n",
    "import matplotlib.patches as patches\n",
    "import random\n",
    "import itertools\n",
    "\n",
    "class Region(object):\n",
    "    def __init__(self,w_cov=10,h_cov=10):\n",
    "        \"\"\"\n",
    "        initializes region\n",
    "        :param: h_cov, height of the coverage area\n",
    "        :type: int\n",
    "        :param: w_cov, width of the coverage area\n",
    "        :type: int\n",
    "        \n",
    "        \"\"\"\n",
    "        assert isinstance(h_cov,int)\n",
    "        assert isinstance(w_cov,int)\n",
    "        self.h = h_cov\n",
    "        self.w = w_cov\n",
    "        self.area = h_cov*w_cov\n",
    "\n",
    "        \n",
    "    def detect_Overlap(self,tower1,tower2):\n",
    "        \"\"\"\n",
    "        detects if two towers intersect\n",
    "        :param: tower1\n",
    "        :type: Tower Object\n",
    "        :param: tower2\n",
    "        :type: Tower Object\n",
    "\n",
    "        \"\"\"\n",
    "        if tower1.x2 < tower2.x4 and tower1.x4 > tower2.x2 \\\n",
    "        and tower1.y4 < tower2.y2 and tower1.y2 > tower2.y4:\n",
    "            return True\n",
    "        else:\n",
    "            return False\n",
    "    \n",
    "    \n",
    "    def trim_Tower(self,tower1,tower2):\n",
    "        \"\"\"\n",
    "        trims tower2 down wrt tower1\n",
    "        :param: tower1\n",
    "        :type: Tower\n",
    "        :param: tower2\n",
    "        :type: Tower\n",
    "\n",
    "        \"\"\"\n",
    "\n",
    "        #if entirely contained, destroy tower\n",
    "        if tower2.x2 >= tower1.x2 and tower2.x4 <= tower1.x4 and tower2.y2 <= tower1.y2 and tower2.y4 >= tower1.y4:\n",
    "            tower2.set_x2(0)\n",
    "            tower2.set_x4(0)\n",
    "            tower2.set_y2(0)\n",
    "            tower2.set_y4(0)\n",
    "            \n",
    "        #dictionary to contain area values    \n",
    "        overlaps = {'x2':0,'x4':0,'y2':0,'y4':0}\n",
    "        overlaps['x2'] = abs(tower2.x2 - tower1.x2)*(tower2.height)\n",
    "        overlaps['x4'] = abs(tower2.x4 - tower1.x4)*(tower2.height)\n",
    "        overlaps['y2'] = abs(tower2.y2 - tower1.y2)*(tower2.width)\n",
    "        overlaps['y4'] = abs(tower2.y4 - tower1.y4)*(tower2.width)\n",
    "\n",
    "        #loop until overlap is gone\n",
    "        while self.detect_Overlap(tower1,tower2) == True: \n",
    "            sel = max(overlaps, key=overlaps.get) #find max area dimension\n",
    "            \n",
    "            if sel == 'x2':               \n",
    "                place = tower2.x4 #keep incase wrong\n",
    "                if tower1.x2 > tower2.x2: #check if legal\n",
    "                    tower2.set_x4(tower1.x2) #trim\n",
    "                if self.detect_Overlap(tower1,tower2) == True: #if wrong\n",
    "                    tower2.set_x4(place) #return to normal\n",
    "                    d = overlaps.pop('x2', None) #kick out wrong answer\n",
    "                    sel = max(overlaps, key=overlaps.get) #try again\n",
    "\n",
    "            if sel == 'x4':\n",
    "                place = tower2.x2\n",
    "                if tower1.x4 < tower2.x4:\n",
    "                    tower2.set_x2(tower1.x4)\n",
    "                if self.detect_Overlap(tower1,tower2) == True:\n",
    "                    tower2.set_x2(place)\n",
    "                    d = overlaps.pop('x4',None)\n",
    "                    sel = max(overlaps, key=overlaps.get)\n",
    "\n",
    "            if sel == 'y2':\n",
    "                place = tower2.y4\n",
    "                if tower1.y2 < tower2.y2:\n",
    "                    tower2.set_y4(tower1.y2)\n",
    "                if self.detect_Overlap(tower1,tower2) == True:\n",
    "                    tower2.set_y4(place)\n",
    "                    d = overlaps.pop('y2',None)\n",
    "                    sel = max(overlaps, key=overlaps.get)\n",
    "\n",
    "\n",
    "            if sel == 'y4':\n",
    "                place = tower2.y2\n",
    "                if tower1.y4 > tower2.y4:\n",
    "                    tower2.set_y2(tower1.y4)\n",
    "                if self.detect_Overlap(tower1,tower2) == True:\n",
    "                    tower2.set_y2(place)\n",
    "                    d = overlaps.pop('y4',None)\n",
    "                    sel = max(overlaps, key=overlaps.get)   \n",
    "                    \n",
    "    def populate(self,n,out='on'):\n",
    "        \"\"\"\n",
    "        populate the region with n towers\n",
    "        \n",
    "        \"\"\"\n",
    "        assert isinstance(n,int)\n",
    "        self.fig, self.ax = plt.subplots(1,figsize=(6,6))\n",
    "        self.ax.set_xlim(0,self.w)\n",
    "        self.ax.set_ylim(0,self.h)\n",
    "        result = 0\n",
    "        towers = []\n",
    "        for i in xrange(0,n):\n",
    "            a = Tower(self.ax,self.w,self.h)\n",
    "            towers.append(a)\n",
    "            for j in xrange(0,len(towers)-1):\n",
    "                if self.detect_Overlap(towers[j],a) is True:\n",
    "                    self.trim_Tower(towers[j],a)\n",
    "        for k in xrange(0,len(towers)):\n",
    "            result = result + towers[k].area\n",
    "        if out == 'on':\n",
    "            print 'No. of Towers: %d, Total Desired Coverage: %d, Total Resulting Coverage: %d, Total Unresolved Coverage: %d' %(n,self.area,result,self.area - result)\n",
    "        return self.area - result \n",
    "            \n",
    "    def visualize(self,n):\n",
    "        \"\"\"\n",
    "        populate region with n towers, visualizing each tower being placed\n",
    "        and trimmed\n",
    "        :param: n\n",
    "        :type: int\n",
    "        \n",
    "        \n",
    "        \"\"\"\n",
    "        towers = []\n",
    "        for i in xrange(0,n):\n",
    "            fig, ax = plt.subplots(1,figsize=(3,3))\n",
    "            ax.set_xlim(0,10)\n",
    "            ax.set_ylim(0,10)\n",
    "            a = Tower(ax)\n",
    "            towers.append(a)\n",
    "            for k in xrange(0,len(towers)-1):\n",
    "                b = Tower(ax)\n",
    "                b.copy(towers[k])\n",
    "            plt.show()\n",
    "            for k in xrange(0,len(towers)-1):\n",
    "                if detect_Overlap(towers[k],a) is True:\n",
    "                    trim_Tower(towers[k],a)\n",
    "                    plt.show()\n",
    "        plt.show()       \n",
    "            \n",
    "    def cover(self):\n",
    "        \"\"\"\n",
    "        populate region until unresolved coverage = 0\n",
    "        \n",
    "        \"\"\"\n",
    "        i = [0,0,0,0,0,0,0,0,0,0]\n",
    "        for j in xrange(0,10):\n",
    "            unres = 100\n",
    "            i[j] = 1\n",
    "            while unres != 0:\n",
    "                unres = self.populate(i[j],'off')\n",
    "                plt.close('all')\n",
    "                plt.ioff() \n",
    "                i[j] = i[j]+1\n",
    "\n",
    "        print 'Average number of towers needed to cover area of %d: %d' %(self.area,(np.mean(i)))      \n",
    "        plt.close('all')\n",
    "        return int(np.mean(i)) \n",
    "            \n",
    "            \n",
    "            "
   ]
  },
  {
   "cell_type": "markdown",
   "metadata": {},
   "source": [
    "First, let's visualize our classes in action."
   ]
  },
  {
   "cell_type": "code",
   "execution_count": 39,
   "metadata": {},
   "outputs": [
    {
     "data": {
      "image/png": "[encoded data removed]",
      "text/plain": [
       "<matplotlib.figure.Figure at 0x11a705c90>"
      ]
     },
     "metadata": {},
     "output_type": "display_data"
    },
    {
     "data": {
      "image/png": "[encoded data removed]",
      "text/plain": [
       "<matplotlib.figure.Figure at 0x10d516a50>"
      ]
     },
     "metadata": {},
     "output_type": "display_data"
    },
    {
     "data": {
      "image/png": "[encoded data removed]",
      "text/plain": [
       "<matplotlib.figure.Figure at 0x11a3cb890>"
      ]
     },
     "metadata": {},
     "output_type": "display_data"
    },
    {
     "data": {
      "image/png": "[encoded data removed]",
      "text/plain": [
       "<matplotlib.figure.Figure at 0x11a3ec950>"
      ]
     },
     "metadata": {},
     "output_type": "display_data"
    },
    {
     "data": {
      "image/png": "[encoded data removed]",
      "text/plain": [
       "<matplotlib.figure.Figure at 0x110227fd0>"
      ]
     },
     "metadata": {},
     "output_type": "display_data"
    },
    {
     "data": {
      "image/png": "[encoded data removed]",
      "text/plain": [
       "<matplotlib.figure.Figure at 0x11aa4ab90>"
      ]
     },
     "metadata": {},
     "output_type": "display_data"
    },
    {
     "data": {
      "image/png": "[encoded data removed]",
      "text/plain": [
       "<matplotlib.figure.Figure at 0x11a62b410>"
      ]
     },
     "metadata": {},
     "output_type": "display_data"
    },
    {
     "data": {
      "image/png": "[encoded data removed]",
      "text/plain": [
       "<matplotlib.figure.Figure at 0x11ac4e090>"
      ]
     },
     "metadata": {},
     "output_type": "display_data"
    },
    {
     "data": {
      "image/png": "[encoded data removed]",
      "text/plain": [
       "<matplotlib.figure.Figure at 0x11ae515d0>"
      ]
     },
     "metadata": {},
     "output_type": "display_data"
    },
    {
     "data": {
      "image/png": "[encoded data removed]",
      "text/plain": [
       "<matplotlib.figure.Figure at 0x11add9e90>"
      ]
     },
     "metadata": {},
     "output_type": "display_data"
    }
   ],
   "source": [
    "coverage = Region(5,5)\n",
    "coverage.visualize(10)"
   ]
  },
  {
   "cell_type": "markdown",
   "metadata": {},
   "source": [
    "Now, let's see what the total unresolved coverage is for a specified area, given 'n' towers."
   ]
  },
  {
   "cell_type": "code",
   "execution_count": 41,
   "metadata": {},
   "outputs": [
    {
     "name": "stdout",
     "output_type": "stream",
     "text": [
      "No. of Towers: 10, Total Desired Coverage: 25, Total Resulting Coverage: 17, Total Unresolved Coverage: 8\n"
     ]
    },
    {
     "data": {
      "text/plain": [
       "8"
      ]
     },
     "execution_count": 41,
     "metadata": {},
     "output_type": "execute_result"
    },
    {
     "data": {
      "image/png": "[encoded data removed]",
      "text/plain": [
       "<matplotlib.figure.Figure at 0x11b142810>"
      ]
     },
     "metadata": {},
     "output_type": "display_data"
    }
   ],
   "source": [
    "coverage = Region(5,5)\n",
    "coverage.populate(10)"
   ]
  },
  {
   "cell_type": "markdown",
   "metadata": {},
   "source": [
    "Now let's see how many towers it takes to cover a specified area."
   ]
  },
  {
   "cell_type": "code",
   "execution_count": 43,
   "metadata": {},
   "outputs": [
    {
     "name": "stdout",
     "output_type": "stream",
     "text": [
      "Average number of towers needed to cover area of 30: 25\n",
      "Average number of towers needed to cover area of 4: 5\n",
      "Average number of towers needed to cover area of 64: 59\n"
     ]
    },
    {
     "data": {
      "text/plain": [
       "59"
      ]
     },
     "execution_count": 43,
     "metadata": {},
     "output_type": "execute_result"
    }
   ],
   "source": [
    "coverage = Region(6,5)\n",
    "coverage.cover()\n",
    "coverage = Region(2,2)\n",
    "coverage.cover()\n",
    "coverage = Region(8,8)\n",
    "coverage.cover()"
   ]
  },
  {
   "cell_type": "markdown",
   "metadata": {},
   "source": [
    "From the above, we can see that if we need to cover an area of n, we need roughly n towers to do so."
   ]
  },
  {
   "cell_type": "code",
   "execution_count": null,
   "metadata": {},
   "outputs": [],
   "source": []
  }
 ],
 "metadata": {
  "kernelspec": {
   "display_name": "Python 2",
   "language": "python",
   "name": "python2"
  },
  "language_info": {
   "codemirror_mode": {
    "name": "ipython",
    "version": 2
   },
   "file_extension": ".py",
   "mimetype": "text/x-python",
   "name": "python",
   "nbconvert_exporter": "python",
   "pygments_lexer": "ipython2",
   "version": "2.7.14"
  }
 },
 "nbformat": 4,
 "nbformat_minor": 2
}
